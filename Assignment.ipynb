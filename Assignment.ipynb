{
 "cells": [
  {
   "cell_type": "code",
   "execution_count": 4,
   "id": "49175790-55d5-4d89-a7b5-fd214e64e658",
   "metadata": {},
   "outputs": [],
   "source": [
    "# 1) Start by importing all important libraries\n",
    "import numpy as np\n",
    "import pandas as pd\n",
    "import matplotlib.pyplot as plt\n",
    "import seaborn as sns\n",
    "\n"
   ]
  },
  {
   "cell_type": "code",
   "execution_count": 6,
   "id": "e8961f50-cd9f-409a-a45a-d5df7c0dde8d",
   "metadata": {},
   "outputs": [],
   "source": [
    "# 2) Read the csv file and assign it to a variable\n",
    "cars_data=pd.read_csv('car.csv')"
   ]
  },
  {
   "cell_type": "code",
   "execution_count": 7,
   "id": "3fca640e-0a8e-42e1-b8a3-e2c34c0f15bf",
   "metadata": {},
   "outputs": [
    {
     "data": {
      "text/html": [
       "<div>\n",
       "<style scoped>\n",
       "    .dataframe tbody tr th:only-of-type {\n",
       "        vertical-align: middle;\n",
       "    }\n",
       "\n",
       "    .dataframe tbody tr th {\n",
       "        vertical-align: top;\n",
       "    }\n",
       "\n",
       "    .dataframe thead th {\n",
       "        text-align: right;\n",
       "    }\n",
       "</style>\n",
       "<table border=\"1\" class=\"dataframe\">\n",
       "  <thead>\n",
       "    <tr style=\"text-align: right;\">\n",
       "      <th></th>\n",
       "      <th>mpg</th>\n",
       "      <th>cylinders</th>\n",
       "      <th>displacement</th>\n",
       "      <th>horsepower</th>\n",
       "      <th>weight</th>\n",
       "      <th>acceleration</th>\n",
       "      <th>model_year</th>\n",
       "      <th>origin</th>\n",
       "      <th>name</th>\n",
       "    </tr>\n",
       "  </thead>\n",
       "  <tbody>\n",
       "    <tr>\n",
       "      <th>0</th>\n",
       "      <td>18.0</td>\n",
       "      <td>8</td>\n",
       "      <td>307.0</td>\n",
       "      <td>130.0</td>\n",
       "      <td>3504</td>\n",
       "      <td>12.0</td>\n",
       "      <td>70</td>\n",
       "      <td>usa</td>\n",
       "      <td>chevrolet chevelle malibu</td>\n",
       "    </tr>\n",
       "    <tr>\n",
       "      <th>1</th>\n",
       "      <td>15.0</td>\n",
       "      <td>8</td>\n",
       "      <td>350.0</td>\n",
       "      <td>165.0</td>\n",
       "      <td>3693</td>\n",
       "      <td>11.5</td>\n",
       "      <td>70</td>\n",
       "      <td>usa</td>\n",
       "      <td>buick skylark 320</td>\n",
       "    </tr>\n",
       "    <tr>\n",
       "      <th>2</th>\n",
       "      <td>18.0</td>\n",
       "      <td>8</td>\n",
       "      <td>318.0</td>\n",
       "      <td>150.0</td>\n",
       "      <td>3436</td>\n",
       "      <td>11.0</td>\n",
       "      <td>70</td>\n",
       "      <td>usa</td>\n",
       "      <td>plymouth satellite</td>\n",
       "    </tr>\n",
       "    <tr>\n",
       "      <th>3</th>\n",
       "      <td>16.0</td>\n",
       "      <td>8</td>\n",
       "      <td>304.0</td>\n",
       "      <td>150.0</td>\n",
       "      <td>3433</td>\n",
       "      <td>12.0</td>\n",
       "      <td>70</td>\n",
       "      <td>usa</td>\n",
       "      <td>amc rebel sst</td>\n",
       "    </tr>\n",
       "    <tr>\n",
       "      <th>4</th>\n",
       "      <td>17.0</td>\n",
       "      <td>8</td>\n",
       "      <td>302.0</td>\n",
       "      <td>140.0</td>\n",
       "      <td>3449</td>\n",
       "      <td>10.5</td>\n",
       "      <td>70</td>\n",
       "      <td>usa</td>\n",
       "      <td>ford torino</td>\n",
       "    </tr>\n",
       "  </tbody>\n",
       "</table>\n",
       "</div>"
      ],
      "text/plain": [
       "    mpg  cylinders  displacement  horsepower  weight  acceleration  \\\n",
       "0  18.0          8         307.0       130.0    3504          12.0   \n",
       "1  15.0          8         350.0       165.0    3693          11.5   \n",
       "2  18.0          8         318.0       150.0    3436          11.0   \n",
       "3  16.0          8         304.0       150.0    3433          12.0   \n",
       "4  17.0          8         302.0       140.0    3449          10.5   \n",
       "\n",
       "   model_year origin                       name  \n",
       "0          70    usa  chevrolet chevelle malibu  \n",
       "1          70    usa          buick skylark 320  \n",
       "2          70    usa         plymouth satellite  \n",
       "3          70    usa              amc rebel sst  \n",
       "4          70    usa                ford torino  "
      ]
     },
     "execution_count": 7,
     "metadata": {},
     "output_type": "execute_result"
    }
   ],
   "source": [
    "cars_data.head()"
   ]
  },
  {
   "cell_type": "code",
   "execution_count": 8,
   "id": "3edc1e27-d124-4ef6-8c32-c1b6e7e90ce1",
   "metadata": {},
   "outputs": [
    {
     "data": {
      "text/plain": [
       "(398, 9)"
      ]
     },
     "execution_count": 8,
     "metadata": {},
     "output_type": "execute_result"
    }
   ],
   "source": [
    "# 3) Display shape of dataframe\n",
    "cars_data.shape"
   ]
  },
  {
   "cell_type": "code",
   "execution_count": 9,
   "id": "6fcec7e6-2bcd-4759-8fb7-5799cdc92719",
   "metadata": {},
   "outputs": [
    {
     "data": {
      "text/plain": [
       "Index(['mpg', 'cylinders', 'displacement', 'horsepower', 'weight',\n",
       "       'acceleration', 'model_year', 'origin', 'name'],\n",
       "      dtype='object')"
      ]
     },
     "execution_count": 9,
     "metadata": {},
     "output_type": "execute_result"
    }
   ],
   "source": [
    "# 4)  Print all columns of dataframe\n",
    "cars_data.columns"
   ]
  },
  {
   "cell_type": "code",
   "execution_count": 10,
   "id": "dedc6d90-ef3b-4e66-b2aa-a2696de06fb5",
   "metadata": {},
   "outputs": [],
   "source": [
    "#6) Set the 'name' column as the index of dataframe\n",
    "cars_data=cars_data.set_index('name',drop=False)"
   ]
  },
  {
   "cell_type": "code",
   "execution_count": 11,
   "id": "0fb4f7e2-65fc-4ddd-818b-a9bcc7f11911",
   "metadata": {},
   "outputs": [
    {
     "data": {
      "text/plain": [
       "array([18. , 15. , 16. , 17. , 14. , 24. , 22. , 21. , 27. , 26. , 25. ,\n",
       "       10. , 11. ,  9. , 28. , 19. , 12. , 13. , 23. , 30. , 31. , 35. ,\n",
       "       20. , 29. , 32. , 33. , 17.5, 15.5, 14.5, 22.5, 24.5, 18.5, 29.5,\n",
       "       26.5, 16.5, 31.5, 36. , 25.5, 33.5, 20.5, 30.5, 21.5, 43.1, 36.1,\n",
       "       32.8, 39.4, 19.9, 19.4, 20.2, 19.2, 25.1, 20.6, 20.8, 18.6, 18.1,\n",
       "       17.7, 27.5, 27.2, 30.9, 21.1, 23.2, 23.8, 23.9, 20.3, 21.6, 16.2,\n",
       "       19.8, 22.3, 17.6, 18.2, 16.9, 31.9, 34.1, 35.7, 27.4, 25.4, 34.2,\n",
       "       34.5, 31.8, 37.3, 28.4, 28.8, 26.8, 41.5, 38.1, 32.1, 37.2, 26.4,\n",
       "       24.3, 19.1, 34.3, 29.8, 31.3, 37. , 32.2, 46.6, 27.9, 40.8, 44.3,\n",
       "       43.4, 36.4, 44.6, 40.9, 33.8, 32.7, 23.7, 23.6, 32.4, 26.6, 25.8,\n",
       "       23.5, 39.1, 39. , 35.1, 32.3, 37.7, 34.7, 34.4, 29.9, 33.7, 32.9,\n",
       "       31.6, 28.1, 30.7, 24.2, 22.4, 34. , 38. , 44. ])"
      ]
     },
     "execution_count": 11,
     "metadata": {},
     "output_type": "execute_result"
    }
   ],
   "source": [
    "#7) Print a list of all the unique mpg values\n",
    "unique_values=cars_data['mpg'].unique()\n",
    "unique_values"
   ]
  },
  {
   "cell_type": "code",
   "execution_count": 16,
   "id": "b018b2f7-8788-4b04-bea8-a4106384ecaf",
   "metadata": {},
   "outputs": [],
   "source": [
    "#8) Create a column which contains the horsepower divided by weightas its metric and make this new column the index.\n",
    "cars_data['hp_to_weight']=cars_data['horsepower']/cars_data['weight']\n",
    "cars_data=cars_data.set_index('hp_to_weight', drop=False)"
   ]
  },
  {
   "cell_type": "code",
   "execution_count": 14,
   "id": "ceffe44d-6b8c-492f-8004-375b07e1ba22",
   "metadata": {},
   "outputs": [
    {
     "name": "stdout",
     "output_type": "stream",
     "text": [
      "highest horsepower car: pontiac grand prix\n"
     ]
    }
   ],
   "source": [
    "#1. What is name of car that has the highest horsepower?\n",
    "car_maxhp=cars_data.loc[cars_data['horsepower'].idxmax()]\n",
    "print(\"highest horsepower car:\", car_maxhp['name'])\n"
   ]
  },
  {
   "cell_type": "code",
   "execution_count": 15,
   "id": "db9a4141-fbce-4060-a5eb-1a8171d7cd97",
   "metadata": {},
   "outputs": [
    {
     "name": "stdout",
     "output_type": "stream",
     "text": [
      "no. of cars with mpg>=35 is: 36\n"
     ]
    }
   ],
   "source": [
    "# 2. How many cars have mpg ≥ 35?\n",
    "cars_count=(cars_data['mpg']>=35).sum()\n",
    "print(\"no. of cars with mpg>=35 is:\", cars_count)"
   ]
  },
  {
   "cell_type": "code",
   "execution_count": 17,
   "id": "4abc34c2-e510-455d-988a-e2a7b2fe235b",
   "metadata": {},
   "outputs": [
    {
     "name": "stdout",
     "output_type": "stream",
     "text": [
      "usa\n"
     ]
    }
   ],
   "source": [
    "# 3. What is the most common origin for cars with horsepower > 100 and weight < 3000?\n",
    "final_cars=cars_data[(cars_data['horsepower']>100) & (cars_data['weight']<3000)]\n",
    "mostCommon_origin=final_cars['origin'].value_counts().idxmax()\n",
    "print(mostCommon_origin)"
   ]
  },
  {
   "cell_type": "code",
   "execution_count": 19,
   "id": "4b539fde-f088-42af-94fd-f9e0a111c308",
   "metadata": {},
   "outputs": [
    {
     "name": "stdout",
     "output_type": "stream",
     "text": [
      "Mean acceleration of japan cars is: 16.17215189873418\n"
     ]
    },
    {
     "name": "stderr",
     "output_type": "stream",
     "text": [
      "C:\\Users\\Mahi Garg\\AppData\\Local\\Temp\\ipykernel_19324\\138250453.py:3: SettingWithCopyWarning: \n",
      "A value is trying to be set on a copy of a slice from a DataFrame.\n",
      "Try using .loc[row_indexer,col_indexer] = value instead\n",
      "\n",
      "See the caveats in the documentation: https://pandas.pydata.org/pandas-docs/stable/user_guide/indexing.html#returning-a-view-versus-a-copy\n",
      "  japan_cars['acceleration']=pd.to_numeric(japan_cars['acceleration'],errors='coerce')\n"
     ]
    }
   ],
   "source": [
    "# 4. What is the mean acceleration of cars from Japan? (rounded to 2 decimals)\n",
    "japan_cars=cars_data[cars_data['origin']=='japan']\n",
    "japan_cars['acceleration']=pd.to_numeric(japan_cars['acceleration'],errors='coerce')\n",
    "japan_mean_acc=japan_cars['acceleration'].mean()   \n",
    "print(\"Mean acceleration of japan cars is:\", japan_mean_acc)"
   ]
  },
  {
   "cell_type": "code",
   "execution_count": 20,
   "id": "aa725242-0407-4617-a2ab-65c532f21c8a",
   "metadata": {},
   "outputs": [
    {
     "name": "stdout",
     "output_type": "stream",
     "text": [
      "80\n"
     ]
    }
   ],
   "source": [
    "#5) Which year had the highest average mpg?\n",
    "highavg_mpg_year=cars_data.groupby('model_year')['mpg'].mean().idxmax()\n",
    "print(highavg_mpg_year)"
   ]
  },
  {
   "cell_type": "code",
   "execution_count": 22,
   "id": "5fcca950-9efe-4d45-8477-01f0173a6a8a",
   "metadata": {},
   "outputs": [
    {
     "name": "stdout",
     "output_type": "stream",
     "text": [
      "hp_to_weight\n",
      "0.050582    bmw 2002\n",
      "Name: name, dtype: object\n"
     ]
    }
   ],
   "source": [
    "#Find the car (or cars) with the best ratio of horsepower to weight among all cars that also have above-median mpg\n",
    "mpg_median=cars_data['mpg'].median()\n",
    "mpg_aboveMedian_cars=cars_data[cars_data['mpg']>mpg_median].copy()\n",
    "mpg_aboveMedian_cars['hp_ratio_weight']=mpg_aboveMedian_cars['horsepower']/mpg_aboveMedian_cars['weight']\n",
    "max_ratio=mpg_aboveMedian_cars['hp_ratio_weight'].max()\n",
    "best_ratiocars=mpg_aboveMedian_cars[mpg_aboveMedian_cars['hp_ratio_weight']==max_ratio]\n",
    "print(best_ratiocars['name'])\n",
    "\n"
   ]
  },
  {
   "cell_type": "code",
   "execution_count": 23,
   "id": "b958e134-48a3-4711-b3b8-c8f5e3dd7d95",
   "metadata": {},
   "outputs": [
    {
     "data": {
      "image/png": "[encoded data removed]",
      "text/plain": [
       "<Figure size 640x480 with 1 Axes>"
      ]
     },
     "metadata": {},
     "output_type": "display_data"
    }
   ],
   "source": [
    "#Design a multi-line plot using Matplotlib or Seaborn that shows the evolution of average mpg over the years, separately for each origin\n",
    "avg_mpg_evolution = cars_data.groupby(['model_year', 'origin'])['mpg'].mean().reset_index()\n",
    "\n",
    "\n",
    "sns.lineplot(data=avg_mpg_evolution, x='model_year', y='mpg', hue='origin', marker='.')\n",
    "\n",
    "# Plot customization\n",
    "plt.title('Evolution of Avg mpg over the Years by Origin')\n",
    "plt.xlabel('Model Year')\n",
    "plt.ylabel('Average MPG')\n",
    "plt.legend(title='Origin')\n",
    "plt.grid(True)\n",
    "plt.show()"
   ]
  },
  {
   "cell_type": "code",
   "execution_count": null,
   "id": "43076178-58ec-41e9-9153-15986a2661ee",
   "metadata": {},
   "outputs": [],
   "source": []
  }
 ],
 "metadata": {
  "kernelspec": {
   "display_name": "Python 3 (ipykernel)",
   "language": "python",
   "name": "python3"
  },
  "language_info": {
   "codemirror_mode": {
    "name": "ipython",
    "version": 3
   },
   "file_extension": ".py",
   "mimetype": "text/x-python",
   "name": "python",
   "nbconvert_exporter": "python",
   "pygments_lexer": "ipython3",
   "version": "3.13.3"
  }
 },
 "nbformat": 4,
 "nbformat_minor": 5
}
